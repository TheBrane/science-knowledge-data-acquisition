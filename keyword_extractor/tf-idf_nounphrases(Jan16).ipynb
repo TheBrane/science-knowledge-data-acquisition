{
 "cells": [
  {
   "cell_type": "code",
   "execution_count": 1,
   "metadata": {},
   "outputs": [
    {
     "name": "stderr",
     "output_type": "stream",
     "text": [
      "[nltk_data] Downloading package wordnet to /Users/tashlin/nltk_data...\n",
      "[nltk_data]   Package wordnet is already up-to-date!\n",
      "[nltk_data] Downloading package stopwords to\n",
      "[nltk_data]     /Users/tashlin/nltk_data...\n",
      "[nltk_data]   Package stopwords is already up-to-date!\n"
     ]
    }
   ],
   "source": [
    "import math\n",
    "import pandas as pd\n",
    "import numpy as np\n",
    "np.random.seed(2018)\n",
    "import time\n",
    "\n",
    "import gensim\n",
    "from gensim.utils import simple_preprocess\n",
    "from gensim.parsing.preprocessing import STOPWORDS\n",
    "from gensim import corpora, models\n",
    "\n",
    "import nltk\n",
    "from nltk.stem import WordNetLemmatizer, SnowballStemmer\n",
    "from nltk.tag import pos_tag\n",
    "from nltk.corpus import stopwords\n",
    "nltk.download('wordnet')\n",
    "nltk.download('stopwords')\n",
    "\n",
    "\n",
    "from textblob import Word, TextBlob as tb\n",
    "\n",
    "import spacy\n",
    "nlp = spacy.load(\"en_core_web_sm\")"
   ]
  },
  {
   "cell_type": "code",
   "execution_count": 2,
   "metadata": {},
   "outputs": [],
   "source": [
    "#read in data\n",
    "data_path = \"../data/csv_files/data_astro-ph.csv\"\n",
    "df = pd.read_csv(data_path, index_col= [0])"
   ]
  },
  {
   "cell_type": "code",
   "execution_count": 3,
   "metadata": {
    "scrolled": true
   },
   "outputs": [
    {
     "data": {
      "text/html": [
       "<div>\n",
       "<style scoped>\n",
       "    .dataframe tbody tr th:only-of-type {\n",
       "        vertical-align: middle;\n",
       "    }\n",
       "\n",
       "    .dataframe tbody tr th {\n",
       "        vertical-align: top;\n",
       "    }\n",
       "\n",
       "    .dataframe thead th {\n",
       "        text-align: right;\n",
       "    }\n",
       "</style>\n",
       "<table border=\"1\" class=\"dataframe\">\n",
       "  <thead>\n",
       "    <tr style=\"text-align: right;\">\n",
       "      <th></th>\n",
       "      <th>title</th>\n",
       "      <th>summary</th>\n",
       "    </tr>\n",
       "  </thead>\n",
       "  <tbody>\n",
       "    <tr>\n",
       "      <th>0</th>\n",
       "      <td>Gamma-Ray Bursts as the Death Throes of Massiv...</td>\n",
       "      <td>It is proposed that gamma-ray bursts are cre...</td>\n",
       "    </tr>\n",
       "    <tr>\n",
       "      <th>1</th>\n",
       "      <td>Gravitational Lensing and the Variability of G</td>\n",
       "      <td>The four observables associated with gravita...</td>\n",
       "    </tr>\n",
       "    <tr>\n",
       "      <th>2</th>\n",
       "      <td>The Ptolemaic Gamma-Ray Burst Universe</td>\n",
       "      <td>The BATSE experiment on GRO has demonstrated...</td>\n",
       "    </tr>\n",
       "    <tr>\n",
       "      <th>3</th>\n",
       "      <td>Expanding Photospheres of Type II Supernovae a...</td>\n",
       "      <td>We use the Expanding Photosphere Method to d...</td>\n",
       "    </tr>\n",
       "    <tr>\n",
       "      <th>4</th>\n",
       "      <td>Radiation Transfer in Gamma-Ray Bursts</td>\n",
       "      <td>We have calculated gamma-ray radiative trans...</td>\n",
       "    </tr>\n",
       "  </tbody>\n",
       "</table>\n",
       "</div>"
      ],
      "text/plain": [
       "                                               title  \\\n",
       "0  Gamma-Ray Bursts as the Death Throes of Massiv...   \n",
       "1     Gravitational Lensing and the Variability of G   \n",
       "2             The Ptolemaic Gamma-Ray Burst Universe   \n",
       "3  Expanding Photospheres of Type II Supernovae a...   \n",
       "4             Radiation Transfer in Gamma-Ray Bursts   \n",
       "\n",
       "                                             summary  \n",
       "0    It is proposed that gamma-ray bursts are cre...  \n",
       "1    The four observables associated with gravita...  \n",
       "2    The BATSE experiment on GRO has demonstrated...  \n",
       "3    We use the Expanding Photosphere Method to d...  \n",
       "4    We have calculated gamma-ray radiative trans...  "
      ]
     },
     "execution_count": 3,
     "metadata": {},
     "output_type": "execute_result"
    }
   ],
   "source": [
    "df.head()"
   ]
  },
  {
   "cell_type": "markdown",
   "metadata": {},
   "source": [
    "### Clean Up and Conversion for Processing"
   ]
  },
  {
   "cell_type": "code",
   "execution_count": 4,
   "metadata": {
    "scrolled": true
   },
   "outputs": [],
   "source": [
    "def get_blob(some_string):\n",
    "    #return converted textblob from string\n",
    "    return tb(some_string)\n",
    "\n",
    "def newline_replace(some_string):\n",
    "    #replace newline character with space\n",
    "    return some_string.replace('- ', '').replace('\\n', ' ')"
   ]
  },
  {
   "cell_type": "markdown",
   "metadata": {},
   "source": [
    "### TF-IDF algo"
   ]
  },
  {
   "cell_type": "code",
   "execution_count": 5,
   "metadata": {},
   "outputs": [],
   "source": [
    "def tf(word, blob):\n",
    "    #term frequency, word count over all words\n",
    "    return blob.words.count(word) / len(blob.words)\n",
    "\n",
    "def n_containing(word, bloblist):\n",
    "    #returns the number of documents containing word\n",
    "    return sum(1 for blob in bloblist if word in blob.words)\n",
    "\n",
    "def idf(word, bloblist):\n",
    "    #inverse document frequency, measures how common a word is among all documents in bloblist\n",
    "    return math.log(len(bloblist) / (1 + n_containing(word, bloblist)))\n",
    "\n",
    "def tfidf(word, blob, bloblist):\n",
    "    #computes the TF-IDF score, product of tf and idf.\n",
    "    return tf(word, blob) * idf(word, bloblist)"
   ]
  },
  {
   "cell_type": "markdown",
   "metadata": {},
   "source": [
    "### Noun_Phrases from TextBlob\n"
   ]
  },
  {
   "cell_type": "code",
   "execution_count": 6,
   "metadata": {},
   "outputs": [],
   "source": [
    "def get_noun_phrases(textblob_string):\n",
    "    #return list of unique noun phrases\n",
    "    np = textblob_string.noun_phrases\n",
    "    return list(set(np))\n",
    "\n",
    "def clean_up_kw(strng_lst):\n",
    "    #filter out all non alpha characters \n",
    "    #convert empty space and dashes to underscores inline with tfidf bigram/trigrams\n",
    "    new_list = []\n",
    "    for strng in strng_lst:\n",
    "        strng = strng.replace(\"-\",\" \")\n",
    "        check_alpha = ''.join([i for i in strng if i.isalpha() or i==\"_\" or i==' ']) \n",
    "        join_alpha = \"_\".join(check_alpha.split())\n",
    "        new_list.append(join_alpha)\n",
    "    return list(set(new_list))"
   ]
  },
  {
   "cell_type": "markdown",
   "metadata": {},
   "source": [
    "#### Arxiv Data Specific processing"
   ]
  },
  {
   "cell_type": "code",
   "execution_count": 7,
   "metadata": {
    "scrolled": true
   },
   "outputs": [
    {
     "data": {
      "text/html": [
       "<div>\n",
       "<style scoped>\n",
       "    .dataframe tbody tr th:only-of-type {\n",
       "        vertical-align: middle;\n",
       "    }\n",
       "\n",
       "    .dataframe tbody tr th {\n",
       "        vertical-align: top;\n",
       "    }\n",
       "\n",
       "    .dataframe thead th {\n",
       "        text-align: right;\n",
       "    }\n",
       "</style>\n",
       "<table border=\"1\" class=\"dataframe\">\n",
       "  <thead>\n",
       "    <tr style=\"text-align: right;\">\n",
       "      <th></th>\n",
       "      <th>title</th>\n",
       "      <th>summary</th>\n",
       "      <th>comb</th>\n",
       "    </tr>\n",
       "  </thead>\n",
       "  <tbody>\n",
       "    <tr>\n",
       "      <th>0</th>\n",
       "      <td>Gamma-Ray Bursts as the Death Throes of Massiv...</td>\n",
       "      <td>It is proposed that gamma-ray bursts are cre...</td>\n",
       "      <td>Gamma-Ray Bursts as the Death Throes of Massiv...</td>\n",
       "    </tr>\n",
       "    <tr>\n",
       "      <th>1</th>\n",
       "      <td>Gravitational Lensing and the Variability of G</td>\n",
       "      <td>The four observables associated with gravita...</td>\n",
       "      <td>Gravitational Lensing and the Variability of G...</td>\n",
       "    </tr>\n",
       "    <tr>\n",
       "      <th>2</th>\n",
       "      <td>The Ptolemaic Gamma-Ray Burst Universe</td>\n",
       "      <td>The BATSE experiment on GRO has demonstrated...</td>\n",
       "      <td>The Ptolemaic Gamma-Ray Burst Universe   The B...</td>\n",
       "    </tr>\n",
       "    <tr>\n",
       "      <th>3</th>\n",
       "      <td>Expanding Photospheres of Type II Supernovae a...</td>\n",
       "      <td>We use the Expanding Photosphere Method to d...</td>\n",
       "      <td>Expanding Photospheres of Type II Supernovae a...</td>\n",
       "    </tr>\n",
       "    <tr>\n",
       "      <th>4</th>\n",
       "      <td>Radiation Transfer in Gamma-Ray Bursts</td>\n",
       "      <td>We have calculated gamma-ray radiative trans...</td>\n",
       "      <td>Radiation Transfer in Gamma-Ray Bursts   We ha...</td>\n",
       "    </tr>\n",
       "  </tbody>\n",
       "</table>\n",
       "</div>"
      ],
      "text/plain": [
       "                                               title  \\\n",
       "0  Gamma-Ray Bursts as the Death Throes of Massiv...   \n",
       "1     Gravitational Lensing and the Variability of G   \n",
       "2             The Ptolemaic Gamma-Ray Burst Universe   \n",
       "3  Expanding Photospheres of Type II Supernovae a...   \n",
       "4             Radiation Transfer in Gamma-Ray Bursts   \n",
       "\n",
       "                                             summary  \\\n",
       "0    It is proposed that gamma-ray bursts are cre...   \n",
       "1    The four observables associated with gravita...   \n",
       "2    The BATSE experiment on GRO has demonstrated...   \n",
       "3    We use the Expanding Photosphere Method to d...   \n",
       "4    We have calculated gamma-ray radiative trans...   \n",
       "\n",
       "                                                comb  \n",
       "0  Gamma-Ray Bursts as the Death Throes of Massiv...  \n",
       "1  Gravitational Lensing and the Variability of G...  \n",
       "2  The Ptolemaic Gamma-Ray Burst Universe   The B...  \n",
       "3  Expanding Photospheres of Type II Supernovae a...  \n",
       "4  Radiation Transfer in Gamma-Ray Bursts   We ha...  "
      ]
     },
     "execution_count": 7,
     "metadata": {},
     "output_type": "execute_result"
    }
   ],
   "source": [
    "#combine summary and title for analysis\n",
    "#replace newline characters in string\n",
    "df['comb'] = (df['title']+ \" \" + df[\"summary\"].map(str)).apply(newline_replace)\n",
    "df.head()"
   ]
  },
  {
   "cell_type": "code",
   "execution_count": 8,
   "metadata": {},
   "outputs": [],
   "source": [
    "def clean_up_text(strng):\n",
    "    strng_replaced = strng.replace(\"-\",\" \")\n",
    "    filter_alnum = ''.join([i for i in strng_replaced if i.isalnum() or i==\"_\" or i==' ' or i=='.'])\n",
    "    return filter_alnum\n",
    "    "
   ]
  },
  {
   "cell_type": "code",
   "execution_count": 9,
   "metadata": {
    "scrolled": true
   },
   "outputs": [],
   "source": [
    "df['cleaned'] = df['comb'].apply(clean_up_text)"
   ]
  },
  {
   "cell_type": "code",
   "execution_count": 10,
   "metadata": {},
   "outputs": [
    {
     "data": {
      "text/plain": [
       "'Gamma Ray Bursts as the Death Throes of Massive Binary Stars   It is proposed that gamma ray bursts are created in the mergers of double neutron star binaries and black hole neutron star binaries at cosmological distances. Bursts with complex profiles and relatively long durations are the result of magnetic flares generated by the Parker instability in a post merger differentially rotating disk. Some bursts may also be produced through neutrino antineutrino annihilation into electrons and positrons. In both cases an optically thick fireball of size sles 100 km is initially created which expands ultrarelativistically to large radii before radiating. Several previous objections to the cosmological merger model are eliminated. It is predicted that gamma ray bursts will be accompanied by a burst of gravitational radiation from the spiraling in binary which could be detected by LIGO. '"
      ]
     },
     "execution_count": 10,
     "metadata": {},
     "output_type": "execute_result"
    }
   ],
   "source": [
    "df['cleaned'][0]"
   ]
  },
  {
   "cell_type": "code",
   "execution_count": null,
   "metadata": {},
   "outputs": [],
   "source": []
  },
  {
   "cell_type": "code",
   "execution_count": null,
   "metadata": {},
   "outputs": [],
   "source": []
  },
  {
   "cell_type": "code",
   "execution_count": null,
   "metadata": {},
   "outputs": [],
   "source": []
  },
  {
   "cell_type": "code",
   "execution_count": 11,
   "metadata": {},
   "outputs": [],
   "source": [
    "#convert string to textblob\n",
    "df['summary_tb'] = df['comb'].apply(get_blob)\n"
   ]
  },
  {
   "cell_type": "code",
   "execution_count": 12,
   "metadata": {},
   "outputs": [
    {
     "data": {
      "text/html": [
       "<div>\n",
       "<style scoped>\n",
       "    .dataframe tbody tr th:only-of-type {\n",
       "        vertical-align: middle;\n",
       "    }\n",
       "\n",
       "    .dataframe tbody tr th {\n",
       "        vertical-align: top;\n",
       "    }\n",
       "\n",
       "    .dataframe thead th {\n",
       "        text-align: right;\n",
       "    }\n",
       "</style>\n",
       "<table border=\"1\" class=\"dataframe\">\n",
       "  <thead>\n",
       "    <tr style=\"text-align: right;\">\n",
       "      <th></th>\n",
       "      <th>title</th>\n",
       "      <th>summary</th>\n",
       "      <th>comb</th>\n",
       "      <th>cleaned</th>\n",
       "      <th>summary_tb</th>\n",
       "    </tr>\n",
       "  </thead>\n",
       "  <tbody>\n",
       "    <tr>\n",
       "      <th>0</th>\n",
       "      <td>Gamma-Ray Bursts as the Death Throes of Massiv...</td>\n",
       "      <td>It is proposed that gamma-ray bursts are cre...</td>\n",
       "      <td>Gamma-Ray Bursts as the Death Throes of Massiv...</td>\n",
       "      <td>Gamma Ray Bursts as the Death Throes of Massiv...</td>\n",
       "      <td>(G, a, m, m, a, -, R, a, y,  , B, u, r, s, t, ...</td>\n",
       "    </tr>\n",
       "    <tr>\n",
       "      <th>1</th>\n",
       "      <td>Gravitational Lensing and the Variability of G</td>\n",
       "      <td>The four observables associated with gravita...</td>\n",
       "      <td>Gravitational Lensing and the Variability of G...</td>\n",
       "      <td>Gravitational Lensing and the Variability of G...</td>\n",
       "      <td>(G, r, a, v, i, t, a, t, i, o, n, a, l,  , L, ...</td>\n",
       "    </tr>\n",
       "    <tr>\n",
       "      <th>2</th>\n",
       "      <td>The Ptolemaic Gamma-Ray Burst Universe</td>\n",
       "      <td>The BATSE experiment on GRO has demonstrated...</td>\n",
       "      <td>The Ptolemaic Gamma-Ray Burst Universe   The B...</td>\n",
       "      <td>The Ptolemaic Gamma Ray Burst Universe   The B...</td>\n",
       "      <td>(T, h, e,  , P, t, o, l, e, m, a, i, c,  , G, ...</td>\n",
       "    </tr>\n",
       "    <tr>\n",
       "      <th>3</th>\n",
       "      <td>Expanding Photospheres of Type II Supernovae a...</td>\n",
       "      <td>We use the Expanding Photosphere Method to d...</td>\n",
       "      <td>Expanding Photospheres of Type II Supernovae a...</td>\n",
       "      <td>Expanding Photospheres of Type II Supernovae a...</td>\n",
       "      <td>(E, x, p, a, n, d, i, n, g,  , P, h, o, t, o, ...</td>\n",
       "    </tr>\n",
       "    <tr>\n",
       "      <th>4</th>\n",
       "      <td>Radiation Transfer in Gamma-Ray Bursts</td>\n",
       "      <td>We have calculated gamma-ray radiative trans...</td>\n",
       "      <td>Radiation Transfer in Gamma-Ray Bursts   We ha...</td>\n",
       "      <td>Radiation Transfer in Gamma Ray Bursts   We ha...</td>\n",
       "      <td>(R, a, d, i, a, t, i, o, n,  , T, r, a, n, s, ...</td>\n",
       "    </tr>\n",
       "  </tbody>\n",
       "</table>\n",
       "</div>"
      ],
      "text/plain": [
       "                                               title  \\\n",
       "0  Gamma-Ray Bursts as the Death Throes of Massiv...   \n",
       "1     Gravitational Lensing and the Variability of G   \n",
       "2             The Ptolemaic Gamma-Ray Burst Universe   \n",
       "3  Expanding Photospheres of Type II Supernovae a...   \n",
       "4             Radiation Transfer in Gamma-Ray Bursts   \n",
       "\n",
       "                                             summary  \\\n",
       "0    It is proposed that gamma-ray bursts are cre...   \n",
       "1    The four observables associated with gravita...   \n",
       "2    The BATSE experiment on GRO has demonstrated...   \n",
       "3    We use the Expanding Photosphere Method to d...   \n",
       "4    We have calculated gamma-ray radiative trans...   \n",
       "\n",
       "                                                comb  \\\n",
       "0  Gamma-Ray Bursts as the Death Throes of Massiv...   \n",
       "1  Gravitational Lensing and the Variability of G...   \n",
       "2  The Ptolemaic Gamma-Ray Burst Universe   The B...   \n",
       "3  Expanding Photospheres of Type II Supernovae a...   \n",
       "4  Radiation Transfer in Gamma-Ray Bursts   We ha...   \n",
       "\n",
       "                                             cleaned  \\\n",
       "0  Gamma Ray Bursts as the Death Throes of Massiv...   \n",
       "1  Gravitational Lensing and the Variability of G...   \n",
       "2  The Ptolemaic Gamma Ray Burst Universe   The B...   \n",
       "3  Expanding Photospheres of Type II Supernovae a...   \n",
       "4  Radiation Transfer in Gamma Ray Bursts   We ha...   \n",
       "\n",
       "                                          summary_tb  \n",
       "0  (G, a, m, m, a, -, R, a, y,  , B, u, r, s, t, ...  \n",
       "1  (G, r, a, v, i, t, a, t, i, o, n, a, l,  , L, ...  \n",
       "2  (T, h, e,  , P, t, o, l, e, m, a, i, c,  , G, ...  \n",
       "3  (E, x, p, a, n, d, i, n, g,  , P, h, o, t, o, ...  \n",
       "4  (R, a, d, i, a, t, i, o, n,  , T, r, a, n, s, ...  "
      ]
     },
     "execution_count": 12,
     "metadata": {},
     "output_type": "execute_result"
    }
   ],
   "source": [
    "df.head()"
   ]
  },
  {
   "cell_type": "markdown",
   "metadata": {},
   "source": [
    "### Implement Noun Phrases"
   ]
  },
  {
   "cell_type": "code",
   "execution_count": 13,
   "metadata": {},
   "outputs": [],
   "source": [
    "#get noun phrases from TextBlob\n",
    "df['np_dirty'] = df['summary_tb'].apply(get_noun_phrases)"
   ]
  },
  {
   "cell_type": "code",
   "execution_count": 14,
   "metadata": {},
   "outputs": [],
   "source": [
    "#get cleaned noun phrases\n",
    "df['np_clean'] = df['np_dirty'].apply(clean_up_kw)"
   ]
  },
  {
   "cell_type": "code",
   "execution_count": null,
   "metadata": {},
   "outputs": [],
   "source": []
  },
  {
   "cell_type": "code",
   "execution_count": null,
   "metadata": {},
   "outputs": [],
   "source": []
  },
  {
   "cell_type": "code",
   "execution_count": null,
   "metadata": {},
   "outputs": [],
   "source": []
  },
  {
   "cell_type": "markdown",
   "metadata": {},
   "source": [
    "### Preproccess for TF-IDF"
   ]
  },
  {
   "cell_type": "code",
   "execution_count": 15,
   "metadata": {},
   "outputs": [],
   "source": [
    "def word_lemmatize(text):\n",
    "    #lemmatize text\n",
    "    return WordNetLemmatizer().lemmatize(text)\n",
    "\n",
    "def sent_to_words(sentences):\n",
    "    #convert sentences to individual words\n",
    "    for sentence in sentences:\n",
    "        yield(gensim.utils.simple_preprocess(str(sentence), deacc=True))\n",
    "    \n",
    "def remove_stopwords(texts):\n",
    "    # remove stopwords from corpus\n",
    "    return [[word for word in simple_preprocess(str(doc)) \n",
    "             if word not in stop_words] for doc in texts]\n",
    "              \n",
    "def make_bigrams(texts):\n",
    "    return [bigram_mod[doc] for doc in texts]\n",
    "\n",
    "def make_trigrams(texts):\n",
    "    return [trigram_mod[bigram_mod[doc]] for doc in texts]"
   ]
  },
  {
   "cell_type": "code",
   "execution_count": 16,
   "metadata": {
    "scrolled": true
   },
   "outputs": [
    {
     "name": "stdout",
     "output_type": "stream",
     "text": [
      "['gamma_ray_burst', 'a', 'the', 'death', 'throe', 'of', 'massive', 'binary', 'star', 'it', 'is', 'proposed', 'that', 'gamma_ray_burst', 'are', 'created', 'in', 'the', 'merger', 'of', 'double', 'neutron_star', 'binary', 'and', 'black_hole', 'neutron_star', 'binary', 'at', 'cosmological', 'distance', 'burst', 'with', 'complex', 'profile', 'and', 'relatively', 'long', 'duration', 'are', 'the', 'result', 'of', 'magnetic_flare', 'generated', 'by', 'the', 'parker_instability', 'in', 'post', 'merger', 'differentially_rotating', 'disk', 'some', 'burst', 'may', 'also', 'be', 'produced', 'through', 'neutrino_antineutrino', 'annihilation', 'into', 'electron', 'and', 'positron', 'in', 'both', 'case', 'an', 'optically_thick', 'fireball', 'of', 'size', 'sle', 'km', 'is', 'initially', 'created', 'which', 'expands', 'to', 'large', 'radius', 'before', 'radiating', 'several', 'previous', 'objection', 'to', 'the', 'cosmological', 'merger', 'model', 'are', 'eliminated', 'it', 'is', 'predicted', 'that', 'gamma_ray_burst', 'will_be', 'accompanied_by', 'burst', 'of', 'gravitational_radiation', 'from', 'the', 'spiraling', 'in', 'binary', 'which', 'could_be', 'detected', 'by', 'ligo']\n",
      "\n",
      "\n",
      "\n",
      "['gamma', 'ray', 'burst', 'a', 'the', 'death', 'throe', 'of', 'massive', 'binary', 'star', 'it', 'is', 'proposed', 'that', 'gamma', 'ray', 'burst', 'are', 'created', 'in', 'the', 'merger', 'of', 'double', 'neutron', 'star', 'binary', 'and', 'black', 'hole', 'neutron', 'star', 'binary', 'at', 'cosmological', 'distance', 'burst', 'with', 'complex', 'profile', 'and', 'relatively', 'long', 'duration', 'are', 'the', 'result', 'of', 'magnetic', 'flare', 'generated', 'by', 'the', 'parker', 'instability', 'in', 'post', 'merger', 'differentially', 'rotating', 'disk', 'some', 'burst', 'may', 'also', 'be', 'produced', 'through', 'neutrino', 'antineutrino', 'annihilation', 'into', 'electron', 'and', 'positron', 'in', 'both', 'case', 'an', 'optically', 'thick', 'fireball', 'of', 'size', 'sle', 'km', 'is', 'initially', 'created', 'which', 'expands', 'to', 'large', 'radius', 'before', 'radiating', 'several', 'previous', 'objection', 'to', 'the', 'cosmological', 'merger', 'model', 'are', 'eliminated', 'it', 'is', 'predicted', 'that', 'gamma', 'ray', 'burst', 'will', 'be', 'accompanied', 'by', 'burst', 'of', 'gravitational', 'radiation', 'from', 'the', 'spiraling', 'in', 'binary', 'which', 'could', 'be', 'detected', 'by', 'ligo']\n"
     ]
    }
   ],
   "source": [
    "words = list(sent_to_words(df['comb']))\n",
    "data_words = [[word_lemmatize(kw) for kw in lst] for lst in words]\n",
    "\n",
    "\n",
    "\n",
    "# hyperparameters threshold need tuning\n",
    "# higher threshold fewer phrases.\n",
    "bigram = gensim.models.Phrases(data_words, min_count=4, threshold=20) \n",
    "trigram = gensim.models.Phrases(bigram[data_words], threshold=20)  \n",
    "\n",
    "# Faster way to get a sentence clubbed as a trigram/bigram\n",
    "bigram_mod = gensim.models.phrases.Phraser(bigram)\n",
    "trigram_mod = gensim.models.phrases.Phraser(trigram)\n",
    "\n",
    "# See trigram example\n",
    "print(trigram_mod[bigram_mod[data_words[0]]])\n",
    "print(\"\\n\\n\")\n",
    "print(data_words[0])"
   ]
  },
  {
   "cell_type": "code",
   "execution_count": 17,
   "metadata": {
    "scrolled": true
   },
   "outputs": [
    {
     "name": "stdout",
     "output_type": "stream",
     "text": [
      "['dynamic', 'of', 'the', 'intermediate_age', 'elliptical', 'lmc', 'cluster', 'ngc', 'in', 'this_paper', 'we', 'investigate', 'the', 'internal', 'dynamic', 'of', 'the', 'lmc', 'cluster', 'ngc', 'through', 'the', 'use', 'of', 'photometric', 'ccd_image', 'and', 'kinematic', 'stellar', 'radial_velocity', 'data', 'we', 'apply', 'variety', 'of', 'dynamical', 'model', 'to', 'this', 'data', 'including', 'multi', 'mass', 'king_michie', 'model', 'and', 'rotating', 'and', 'non_rotating', 'oblate_spheroid', 'model', 'we', 'discus', 'the', 'cluster', 'mass', 'to', 'light_ratio', 'and', 'place_constraint_on', 'the', 'cluster', 'mass', 'function']\n",
      "\n",
      "\n",
      "\n",
      "['dynamic', 'of', 'the', 'intermediate', 'age', 'elliptical', 'lmc', 'cluster', 'ngc', 'in', 'this', 'paper', 'we', 'investigate', 'the', 'internal', 'dynamic', 'of', 'the', 'lmc', 'cluster', 'ngc', 'through', 'the', 'use', 'of', 'photometric', 'ccd', 'image', 'and', 'kinematic', 'stellar', 'radial', 'velocity', 'data', 'we', 'apply', 'variety', 'of', 'dynamical', 'model', 'to', 'this', 'data', 'including', 'multi', 'mass', 'king', 'michie', 'model', 'and', 'rotating', 'and', 'non', 'rotating', 'oblate', 'spheroid', 'model', 'we', 'discus', 'the', 'cluster', 'mass', 'to', 'light', 'ratio', 'and', 'place', 'constraint', 'on', 'the', 'cluster', 'mass', 'function']\n"
     ]
    }
   ],
   "source": [
    "paper_number = 12\n",
    "print(trigram_mod[bigram_mod[data_words[paper_number]]])\n",
    "print(\"\\n\\n\")\n",
    "print(data_words[paper_number])"
   ]
  },
  {
   "cell_type": "code",
   "execution_count": null,
   "metadata": {},
   "outputs": [],
   "source": []
  },
  {
   "cell_type": "code",
   "execution_count": 18,
   "metadata": {},
   "outputs": [],
   "source": [
    "#Snowball stemmer aka porter2 stemmer regarded as better stemmer vs regular Porter\n",
    "stemmer = SnowballStemmer(\"english\")\n",
    "stop_words = stopwords.words('english')\n",
    "stop_words.extend(['compare', 'constraint'])   # expand the stopwords dictionary includes high frequence words\n"
   ]
  },
  {
   "cell_type": "code",
   "execution_count": null,
   "metadata": {},
   "outputs": [],
   "source": []
  },
  {
   "cell_type": "code",
   "execution_count": 19,
   "metadata": {},
   "outputs": [],
   "source": [
    "data_words_nostops = remove_stopwords(data_words)\n",
    "data_words_bigrams = make_bigrams(data_words_nostops)\n",
    "data_words_trigrams = make_trigrams(data_words_bigrams)"
   ]
  },
  {
   "cell_type": "code",
   "execution_count": 20,
   "metadata": {
    "scrolled": false
   },
   "outputs": [],
   "source": [
    "# Preproccesed with bi/trigrams in pandas series\n",
    "df_pre_tb = pd.Series(data_words_trigrams).to_frame(name='summary')\n"
   ]
  },
  {
   "cell_type": "code",
   "execution_count": null,
   "metadata": {},
   "outputs": [],
   "source": []
  },
  {
   "cell_type": "code",
   "execution_count": 21,
   "metadata": {},
   "outputs": [],
   "source": [
    "def first_join_list(some_list):\n",
    "    return \" \".join(some_list)"
   ]
  },
  {
   "cell_type": "code",
   "execution_count": 22,
   "metadata": {},
   "outputs": [],
   "source": [
    "df_pre = df_pre_tb['summary'].apply(first_join_list)"
   ]
  },
  {
   "cell_type": "code",
   "execution_count": 23,
   "metadata": {},
   "outputs": [
    {
     "name": "stdout",
     "output_type": "stream",
     "text": [
      "['dynamic', 'of', 'the', 'intermediate', 'age', 'elliptical', 'lmc', 'cluster', 'ngc', 'in', 'this', 'paper', 'we', 'investigate', 'the', 'internal', 'dynamic', 'of', 'the', 'lmc', 'cluster', 'ngc', 'through', 'the', 'use', 'of', 'photometric', 'ccd', 'image', 'and', 'kinematic', 'stellar', 'radial', 'velocity', 'data', 'we', 'apply', 'variety', 'of', 'dynamical', 'model', 'to', 'this', 'data', 'including', 'multi', 'mass', 'king', 'michie', 'model', 'and', 'rotating', 'and', 'non', 'rotating', 'oblate', 'spheroid', 'model', 'we', 'discus', 'the', 'cluster', 'mass', 'to', 'light', 'ratio', 'and', 'place', 'constraint', 'on', 'the', 'cluster', 'mass', 'function']\n",
      "****\n",
      "dynamic intermediate_age elliptical lmc cluster ngc paper investigate internal dynamic lmc cluster ngc use photometric ccd_image kinematic stellar radial_velocity data apply variety dynamical model data including multi mass king_michie model rotating non_rotating oblate_spheroid model discus cluster mass light_ratio place cluster mass function\n"
     ]
    }
   ],
   "source": [
    "print(data_words[paper_number])\n",
    "print(\"****\")\n",
    "print(df_pre[12])"
   ]
  },
  {
   "cell_type": "code",
   "execution_count": 24,
   "metadata": {},
   "outputs": [],
   "source": [
    "df_tb = df_pre.apply(get_blob)"
   ]
  },
  {
   "cell_type": "code",
   "execution_count": 25,
   "metadata": {
    "scrolled": true
   },
   "outputs": [
    {
     "data": {
      "text/plain": [
       "0    (g, a, m, m, a, _, r, a, y, _, b, u, r, s, t, ...\n",
       "1    (g, r, a, v, i, t, a, t, i, o, n, a, l, _, l, ...\n",
       "2    (p, t, o, l, e, m, a, i, c,  , g, a, m, m, a, ...\n",
       "3    (e, x, p, a, n, d, i, n, g, _, p, h, o, t, o, ...\n",
       "4    (r, a, d, i, a, t, i, o, n,  , t, r, a, n, s, ...\n",
       "Name: summary, dtype: object"
      ]
     },
     "execution_count": 25,
     "metadata": {},
     "output_type": "execute_result"
    }
   ],
   "source": [
    "df_tb.head()"
   ]
  },
  {
   "cell_type": "markdown",
   "metadata": {},
   "source": [
    "#### For timesake limit the amount of data to 1000 rows"
   ]
  },
  {
   "cell_type": "code",
   "execution_count": 26,
   "metadata": {},
   "outputs": [],
   "source": [
    "df_limit = df_tb[:1000]"
   ]
  },
  {
   "cell_type": "code",
   "execution_count": 27,
   "metadata": {},
   "outputs": [],
   "source": [
    "#return top 15 keywords for each document/summary\n",
    "def tfidf_keywords(blob,df_blob):\n",
    "    scores = {word: tfidf(word, blob,df_blob) for word in blob.words}\n",
    "    sorted_words = sorted(scores.items(), key=lambda x: x[1], reverse=True)\n",
    "    return [item[0] for item in sorted_words[:15]]  "
   ]
  },
  {
   "cell_type": "code",
   "execution_count": 28,
   "metadata": {
    "scrolled": false
   },
   "outputs": [
    {
     "name": "stdout",
     "output_type": "stream",
     "text": [
      "finished in: 130.16\n"
     ]
    }
   ],
   "source": [
    "#run tfidf and print time taken\n",
    "start = time.perf_counter()\n",
    "results = [tfidf_keywords(blob, df_limit) for blob in df_limit]\n",
    "finish = time.perf_counter()\n",
    "print(f'finished in: {round(finish-start,2)}')"
   ]
  },
  {
   "cell_type": "code",
   "execution_count": null,
   "metadata": {},
   "outputs": [],
   "source": []
  },
  {
   "cell_type": "code",
   "execution_count": null,
   "metadata": {},
   "outputs": [],
   "source": []
  },
  {
   "cell_type": "code",
   "execution_count": 29,
   "metadata": {},
   "outputs": [
    {
     "data": {
      "text/html": [
       "<div>\n",
       "<style scoped>\n",
       "    .dataframe tbody tr th:only-of-type {\n",
       "        vertical-align: middle;\n",
       "    }\n",
       "\n",
       "    .dataframe tbody tr th {\n",
       "        vertical-align: top;\n",
       "    }\n",
       "\n",
       "    .dataframe thead th {\n",
       "        text-align: right;\n",
       "    }\n",
       "</style>\n",
       "<table border=\"1\" class=\"dataframe\">\n",
       "  <thead>\n",
       "    <tr style=\"text-align: right;\">\n",
       "      <th></th>\n",
       "      <th>title</th>\n",
       "      <th>summary</th>\n",
       "      <th>comb</th>\n",
       "      <th>cleaned</th>\n",
       "      <th>summary_tb</th>\n",
       "      <th>np_dirty</th>\n",
       "      <th>np_clean</th>\n",
       "    </tr>\n",
       "  </thead>\n",
       "  <tbody>\n",
       "    <tr>\n",
       "      <th>0</th>\n",
       "      <td>Gamma-Ray Bursts as the Death Throes of Massiv...</td>\n",
       "      <td>It is proposed that gamma-ray bursts are cre...</td>\n",
       "      <td>Gamma-Ray Bursts as the Death Throes of Massiv...</td>\n",
       "      <td>Gamma Ray Bursts as the Death Throes of Massiv...</td>\n",
       "      <td>(G, a, m, m, a, -, R, a, y,  , B, u, r, s, t, ...</td>\n",
       "      <td>[double neutron star binaries, massive binary,...</td>\n",
       "      <td>[gamma_ray_bursts, black_hole_neutron_star_bin...</td>\n",
       "    </tr>\n",
       "    <tr>\n",
       "      <th>1</th>\n",
       "      <td>Gravitational Lensing and the Variability of G</td>\n",
       "      <td>The four observables associated with gravita...</td>\n",
       "      <td>Gravitational Lensing and the Variability of G...</td>\n",
       "      <td>Gravitational Lensing and the Variability of G...</td>\n",
       "      <td>(G, r, a, v, i, t, a, t, i, o, n, a, l,  , L, ...</td>\n",
       "      <td>[$ \\dot {, distant quasars, variability, relat...</td>\n",
       "      <td>[, estimate_constraints, omega_, variability, ...</td>\n",
       "    </tr>\n",
       "    <tr>\n",
       "      <th>2</th>\n",
       "      <td>The Ptolemaic Gamma-Ray Burst Universe</td>\n",
       "      <td>The BATSE experiment on GRO has demonstrated...</td>\n",
       "      <td>The Ptolemaic Gamma-Ray Burst Universe   The B...</td>\n",
       "      <td>The Ptolemaic Gamma Ray Burst Universe   The B...</td>\n",
       "      <td>(T, h, e,  , P, t, o, l, e, m, a, i, c,  , G, ...</td>\n",
       "      <td>[cosmic gamma-ray bursts, jennings, $ { \\it, m...</td>\n",
       "      <td>[log_s, gamma_ray_bursts, jennings, high_recoi...</td>\n",
       "    </tr>\n",
       "    <tr>\n",
       "      <th>3</th>\n",
       "      <td>Expanding Photospheres of Type II Supernovae a...</td>\n",
       "      <td>We use the Expanding Photosphere Method to d...</td>\n",
       "      <td>Expanding Photospheres of Type II Supernovae a...</td>\n",
       "      <td>Expanding Photospheres of Type II Supernovae a...</td>\n",
       "      <td>(E, x, p, a, n, d, i, n, g,  , P, h, o, t, o, ...</td>\n",
       "      <td>[variable stars, surface brightness fluctuatio...</td>\n",
       "      <td>[, distance_measurement, mpc, good_agreement, ...</td>\n",
       "    </tr>\n",
       "    <tr>\n",
       "      <th>4</th>\n",
       "      <td>Radiation Transfer in Gamma-Ray Bursts</td>\n",
       "      <td>We have calculated gamma-ray radiative trans...</td>\n",
       "      <td>Radiation Transfer in Gamma-Ray Bursts   We ha...</td>\n",
       "      <td>Radiation Transfer in Gamma Ray Bursts   We ha...</td>\n",
       "      <td>(R, a, d, i, a, t, i, o, n,  , T, r, a, n, s, ...</td>\n",
       "      <td>[march, spherical, flare models, mev, gamma-ra...</td>\n",
       "      <td>[march, effective_collimation, two_photon_pair...</td>\n",
       "    </tr>\n",
       "  </tbody>\n",
       "</table>\n",
       "</div>"
      ],
      "text/plain": [
       "                                               title  \\\n",
       "0  Gamma-Ray Bursts as the Death Throes of Massiv...   \n",
       "1     Gravitational Lensing and the Variability of G   \n",
       "2             The Ptolemaic Gamma-Ray Burst Universe   \n",
       "3  Expanding Photospheres of Type II Supernovae a...   \n",
       "4             Radiation Transfer in Gamma-Ray Bursts   \n",
       "\n",
       "                                             summary  \\\n",
       "0    It is proposed that gamma-ray bursts are cre...   \n",
       "1    The four observables associated with gravita...   \n",
       "2    The BATSE experiment on GRO has demonstrated...   \n",
       "3    We use the Expanding Photosphere Method to d...   \n",
       "4    We have calculated gamma-ray radiative trans...   \n",
       "\n",
       "                                                comb  \\\n",
       "0  Gamma-Ray Bursts as the Death Throes of Massiv...   \n",
       "1  Gravitational Lensing and the Variability of G...   \n",
       "2  The Ptolemaic Gamma-Ray Burst Universe   The B...   \n",
       "3  Expanding Photospheres of Type II Supernovae a...   \n",
       "4  Radiation Transfer in Gamma-Ray Bursts   We ha...   \n",
       "\n",
       "                                             cleaned  \\\n",
       "0  Gamma Ray Bursts as the Death Throes of Massiv...   \n",
       "1  Gravitational Lensing and the Variability of G...   \n",
       "2  The Ptolemaic Gamma Ray Burst Universe   The B...   \n",
       "3  Expanding Photospheres of Type II Supernovae a...   \n",
       "4  Radiation Transfer in Gamma Ray Bursts   We ha...   \n",
       "\n",
       "                                          summary_tb  \\\n",
       "0  (G, a, m, m, a, -, R, a, y,  , B, u, r, s, t, ...   \n",
       "1  (G, r, a, v, i, t, a, t, i, o, n, a, l,  , L, ...   \n",
       "2  (T, h, e,  , P, t, o, l, e, m, a, i, c,  , G, ...   \n",
       "3  (E, x, p, a, n, d, i, n, g,  , P, h, o, t, o, ...   \n",
       "4  (R, a, d, i, a, t, i, o, n,  , T, r, a, n, s, ...   \n",
       "\n",
       "                                            np_dirty  \\\n",
       "0  [double neutron star binaries, massive binary,...   \n",
       "1  [$ \\dot {, distant quasars, variability, relat...   \n",
       "2  [cosmic gamma-ray bursts, jennings, $ { \\it, m...   \n",
       "3  [variable stars, surface brightness fluctuatio...   \n",
       "4  [march, spherical, flare models, mev, gamma-ra...   \n",
       "\n",
       "                                            np_clean  \n",
       "0  [gamma_ray_bursts, black_hole_neutron_star_bin...  \n",
       "1  [, estimate_constraints, omega_, variability, ...  \n",
       "2  [log_s, gamma_ray_bursts, jennings, high_recoi...  \n",
       "3  [, distance_measurement, mpc, good_agreement, ...  \n",
       "4  [march, effective_collimation, two_photon_pair...  "
      ]
     },
     "execution_count": 29,
     "metadata": {},
     "output_type": "execute_result"
    }
   ],
   "source": [
    "df.head()"
   ]
  },
  {
   "cell_type": "code",
   "execution_count": 30,
   "metadata": {},
   "outputs": [],
   "source": [
    "#create new df for limited*  results\n",
    "df_test = df[:1000]"
   ]
  },
  {
   "cell_type": "code",
   "execution_count": 31,
   "metadata": {},
   "outputs": [
    {
     "name": "stderr",
     "output_type": "stream",
     "text": [
      "/Users/tashlin/anaconda3/lib/python3.7/site-packages/ipykernel_launcher.py:2: SettingWithCopyWarning: \n",
      "A value is trying to be set on a copy of a slice from a DataFrame.\n",
      "Try using .loc[row_indexer,col_indexer] = value instead\n",
      "\n",
      "See the caveats in the documentation: http://pandas.pydata.org/pandas-docs/stable/indexing.html#indexing-view-versus-copy\n",
      "  \n"
     ]
    }
   ],
   "source": [
    "#add keywords results to dataframe\n",
    "df_test['keywords'] = results\n"
   ]
  },
  {
   "cell_type": "code",
   "execution_count": 32,
   "metadata": {
    "scrolled": true
   },
   "outputs": [
    {
     "data": {
      "text/html": [
       "<div>\n",
       "<style scoped>\n",
       "    .dataframe tbody tr th:only-of-type {\n",
       "        vertical-align: middle;\n",
       "    }\n",
       "\n",
       "    .dataframe tbody tr th {\n",
       "        vertical-align: top;\n",
       "    }\n",
       "\n",
       "    .dataframe thead th {\n",
       "        text-align: right;\n",
       "    }\n",
       "</style>\n",
       "<table border=\"1\" class=\"dataframe\">\n",
       "  <thead>\n",
       "    <tr style=\"text-align: right;\">\n",
       "      <th></th>\n",
       "      <th>title</th>\n",
       "      <th>summary</th>\n",
       "      <th>comb</th>\n",
       "      <th>cleaned</th>\n",
       "      <th>summary_tb</th>\n",
       "      <th>np_dirty</th>\n",
       "      <th>np_clean</th>\n",
       "      <th>keywords</th>\n",
       "    </tr>\n",
       "  </thead>\n",
       "  <tbody>\n",
       "    <tr>\n",
       "      <th>0</th>\n",
       "      <td>Gamma-Ray Bursts as the Death Throes of Massiv...</td>\n",
       "      <td>It is proposed that gamma-ray bursts are cre...</td>\n",
       "      <td>Gamma-Ray Bursts as the Death Throes of Massiv...</td>\n",
       "      <td>Gamma Ray Bursts as the Death Throes of Massiv...</td>\n",
       "      <td>(G, a, m, m, a, -, R, a, y,  , B, u, r, s, t, ...</td>\n",
       "      <td>[double neutron star binaries, massive binary,...</td>\n",
       "      <td>[gamma_ray_bursts, black_hole_neutron_star_bin...</td>\n",
       "      <td>[binary, merger, created, burst, gamma_ray_bur...</td>\n",
       "    </tr>\n",
       "    <tr>\n",
       "      <th>1</th>\n",
       "      <td>Gravitational Lensing and the Variability of G</td>\n",
       "      <td>The four observables associated with gravita...</td>\n",
       "      <td>Gravitational Lensing and the Variability of G...</td>\n",
       "      <td>Gravitational Lensing and the Variability of G...</td>\n",
       "      <td>(G, r, a, v, i, t, a, t, i, o, n, a, l,  , L, ...</td>\n",
       "      <td>[$ \\dot {, distant quasars, variability, relat...</td>\n",
       "      <td>[, estimate_constraints, omega_, variability, ...</td>\n",
       "      <td>[dot, gravitational_lensing, lensing, splittin...</td>\n",
       "    </tr>\n",
       "    <tr>\n",
       "      <th>2</th>\n",
       "      <td>The Ptolemaic Gamma-Ray Burst Universe</td>\n",
       "      <td>The BATSE experiment on GRO has demonstrated...</td>\n",
       "      <td>The Ptolemaic Gamma-Ray Burst Universe   The B...</td>\n",
       "      <td>The Ptolemaic Gamma Ray Burst Universe   The B...</td>\n",
       "      <td>(T, h, e,  , P, t, o, l, e, m, a, i, c,  , G, ...</td>\n",
       "      <td>[cosmic gamma-ray bursts, jennings, $ { \\it, m...</td>\n",
       "      <td>[log_s, gamma_ray_bursts, jennings, high_recoi...</td>\n",
       "      <td>[gamma_ray_burst, born, recoil, become, neutro...</td>\n",
       "    </tr>\n",
       "    <tr>\n",
       "      <th>3</th>\n",
       "      <td>Expanding Photospheres of Type II Supernovae a...</td>\n",
       "      <td>We use the Expanding Photosphere Method to d...</td>\n",
       "      <td>Expanding Photospheres of Type II Supernovae a...</td>\n",
       "      <td>Expanding Photospheres of Type II Supernovae a...</td>\n",
       "      <td>(E, x, p, a, n, d, i, n, g,  , P, h, o, t, o, ...</td>\n",
       "      <td>[variable stars, surface brightness fluctuatio...</td>\n",
       "      <td>[, distance_measurement, mpc, good_agreement, ...</td>\n",
       "      <td>[sn, type_ii, distance, supernova, extinction,...</td>\n",
       "    </tr>\n",
       "    <tr>\n",
       "      <th>4</th>\n",
       "      <td>Radiation Transfer in Gamma-Ray Bursts</td>\n",
       "      <td>We have calculated gamma-ray radiative trans...</td>\n",
       "      <td>Radiation Transfer in Gamma-Ray Bursts   We ha...</td>\n",
       "      <td>Radiation Transfer in Gamma Ray Bursts   We ha...</td>\n",
       "      <td>(R, a, d, i, a, t, i, o, n,  , T, r, a, n, s, ...</td>\n",
       "      <td>[march, spherical, flare models, mev, gamma-ra...</td>\n",
       "      <td>[march, effective_collimation, two_photon_pair...</td>\n",
       "      <td>[discrete, gamma_ray_burst, energy, optical_de...</td>\n",
       "    </tr>\n",
       "  </tbody>\n",
       "</table>\n",
       "</div>"
      ],
      "text/plain": [
       "                                               title  \\\n",
       "0  Gamma-Ray Bursts as the Death Throes of Massiv...   \n",
       "1     Gravitational Lensing and the Variability of G   \n",
       "2             The Ptolemaic Gamma-Ray Burst Universe   \n",
       "3  Expanding Photospheres of Type II Supernovae a...   \n",
       "4             Radiation Transfer in Gamma-Ray Bursts   \n",
       "\n",
       "                                             summary  \\\n",
       "0    It is proposed that gamma-ray bursts are cre...   \n",
       "1    The four observables associated with gravita...   \n",
       "2    The BATSE experiment on GRO has demonstrated...   \n",
       "3    We use the Expanding Photosphere Method to d...   \n",
       "4    We have calculated gamma-ray radiative trans...   \n",
       "\n",
       "                                                comb  \\\n",
       "0  Gamma-Ray Bursts as the Death Throes of Massiv...   \n",
       "1  Gravitational Lensing and the Variability of G...   \n",
       "2  The Ptolemaic Gamma-Ray Burst Universe   The B...   \n",
       "3  Expanding Photospheres of Type II Supernovae a...   \n",
       "4  Radiation Transfer in Gamma-Ray Bursts   We ha...   \n",
       "\n",
       "                                             cleaned  \\\n",
       "0  Gamma Ray Bursts as the Death Throes of Massiv...   \n",
       "1  Gravitational Lensing and the Variability of G...   \n",
       "2  The Ptolemaic Gamma Ray Burst Universe   The B...   \n",
       "3  Expanding Photospheres of Type II Supernovae a...   \n",
       "4  Radiation Transfer in Gamma Ray Bursts   We ha...   \n",
       "\n",
       "                                          summary_tb  \\\n",
       "0  (G, a, m, m, a, -, R, a, y,  , B, u, r, s, t, ...   \n",
       "1  (G, r, a, v, i, t, a, t, i, o, n, a, l,  , L, ...   \n",
       "2  (T, h, e,  , P, t, o, l, e, m, a, i, c,  , G, ...   \n",
       "3  (E, x, p, a, n, d, i, n, g,  , P, h, o, t, o, ...   \n",
       "4  (R, a, d, i, a, t, i, o, n,  , T, r, a, n, s, ...   \n",
       "\n",
       "                                            np_dirty  \\\n",
       "0  [double neutron star binaries, massive binary,...   \n",
       "1  [$ \\dot {, distant quasars, variability, relat...   \n",
       "2  [cosmic gamma-ray bursts, jennings, $ { \\it, m...   \n",
       "3  [variable stars, surface brightness fluctuatio...   \n",
       "4  [march, spherical, flare models, mev, gamma-ra...   \n",
       "\n",
       "                                            np_clean  \\\n",
       "0  [gamma_ray_bursts, black_hole_neutron_star_bin...   \n",
       "1  [, estimate_constraints, omega_, variability, ...   \n",
       "2  [log_s, gamma_ray_bursts, jennings, high_recoi...   \n",
       "3  [, distance_measurement, mpc, good_agreement, ...   \n",
       "4  [march, effective_collimation, two_photon_pair...   \n",
       "\n",
       "                                            keywords  \n",
       "0  [binary, merger, created, burst, gamma_ray_bur...  \n",
       "1  [dot, gravitational_lensing, lensing, splittin...  \n",
       "2  [gamma_ray_burst, born, recoil, become, neutro...  \n",
       "3  [sn, type_ii, distance, supernova, extinction,...  \n",
       "4  [discrete, gamma_ray_burst, energy, optical_de...  "
      ]
     },
     "execution_count": 32,
     "metadata": {},
     "output_type": "execute_result"
    }
   ],
   "source": [
    "df_test.head()"
   ]
  },
  {
   "cell_type": "markdown",
   "metadata": {},
   "source": [
    "### Combine Noun Phrases and TFIDF"
   ]
  },
  {
   "cell_type": "code",
   "execution_count": 33,
   "metadata": {},
   "outputs": [
    {
     "name": "stderr",
     "output_type": "stream",
     "text": [
      "/Users/tashlin/anaconda3/lib/python3.7/site-packages/ipykernel_launcher.py:1: SettingWithCopyWarning: \n",
      "A value is trying to be set on a copy of a slice from a DataFrame.\n",
      "Try using .loc[row_indexer,col_indexer] = value instead\n",
      "\n",
      "See the caveats in the documentation: http://pandas.pydata.org/pandas-docs/stable/indexing.html#indexing-view-versus-copy\n",
      "  \"\"\"Entry point for launching an IPython kernel.\n"
     ]
    }
   ],
   "source": [
    "df_test['np+tf'] = df_test['keywords'] + df_test['np_clean']"
   ]
  },
  {
   "cell_type": "code",
   "execution_count": null,
   "metadata": {},
   "outputs": [],
   "source": []
  },
  {
   "cell_type": "code",
   "execution_count": 34,
   "metadata": {},
   "outputs": [],
   "source": [
    "#get textblob of keywords for analysis\n",
    "def get_textblob_kw(data):\n",
    "    string_list = ' '.join(data)\n",
    "    text_blob = tb(string_list)\n",
    "    return text_blob"
   ]
  },
  {
   "cell_type": "code",
   "execution_count": 35,
   "metadata": {},
   "outputs": [
    {
     "name": "stderr",
     "output_type": "stream",
     "text": [
      "/Users/tashlin/anaconda3/lib/python3.7/site-packages/ipykernel_launcher.py:2: SettingWithCopyWarning: \n",
      "A value is trying to be set on a copy of a slice from a DataFrame.\n",
      "Try using .loc[row_indexer,col_indexer] = value instead\n",
      "\n",
      "See the caveats in the documentation: http://pandas.pydata.org/pandas-docs/stable/indexing.html#indexing-view-versus-copy\n",
      "  \n"
     ]
    }
   ],
   "source": [
    "#textblob of keywords to dataframe column\n",
    "df_test['key_tb'] = df_test['np+tf'].apply(get_textblob_kw)"
   ]
  },
  {
   "cell_type": "code",
   "execution_count": 36,
   "metadata": {
    "scrolled": true
   },
   "outputs": [
    {
     "data": {
      "text/html": [
       "<div>\n",
       "<style scoped>\n",
       "    .dataframe tbody tr th:only-of-type {\n",
       "        vertical-align: middle;\n",
       "    }\n",
       "\n",
       "    .dataframe tbody tr th {\n",
       "        vertical-align: top;\n",
       "    }\n",
       "\n",
       "    .dataframe thead th {\n",
       "        text-align: right;\n",
       "    }\n",
       "</style>\n",
       "<table border=\"1\" class=\"dataframe\">\n",
       "  <thead>\n",
       "    <tr style=\"text-align: right;\">\n",
       "      <th></th>\n",
       "      <th>title</th>\n",
       "      <th>summary</th>\n",
       "      <th>comb</th>\n",
       "      <th>cleaned</th>\n",
       "      <th>summary_tb</th>\n",
       "      <th>np_dirty</th>\n",
       "      <th>np_clean</th>\n",
       "      <th>keywords</th>\n",
       "      <th>np+tf</th>\n",
       "      <th>key_tb</th>\n",
       "    </tr>\n",
       "  </thead>\n",
       "  <tbody>\n",
       "    <tr>\n",
       "      <th>0</th>\n",
       "      <td>Gamma-Ray Bursts as the Death Throes of Massiv...</td>\n",
       "      <td>It is proposed that gamma-ray bursts are cre...</td>\n",
       "      <td>Gamma-Ray Bursts as the Death Throes of Massiv...</td>\n",
       "      <td>Gamma Ray Bursts as the Death Throes of Massiv...</td>\n",
       "      <td>(G, a, m, m, a, -, R, a, y,  , B, u, r, s, t, ...</td>\n",
       "      <td>[double neutron star binaries, massive binary,...</td>\n",
       "      <td>[gamma_ray_bursts, black_hole_neutron_star_bin...</td>\n",
       "      <td>[binary, merger, created, burst, gamma_ray_bur...</td>\n",
       "      <td>[binary, merger, created, burst, gamma_ray_bur...</td>\n",
       "      <td>(b, i, n, a, r, y,  , m, e, r, g, e, r,  , c, ...</td>\n",
       "    </tr>\n",
       "    <tr>\n",
       "      <th>1</th>\n",
       "      <td>Gravitational Lensing and the Variability of G</td>\n",
       "      <td>The four observables associated with gravita...</td>\n",
       "      <td>Gravitational Lensing and the Variability of G...</td>\n",
       "      <td>Gravitational Lensing and the Variability of G...</td>\n",
       "      <td>(G, r, a, v, i, t, a, t, i, o, n, a, l,  , L, ...</td>\n",
       "      <td>[$ \\dot {, distant quasars, variability, relat...</td>\n",
       "      <td>[, estimate_constraints, omega_, variability, ...</td>\n",
       "      <td>[dot, gravitational_lensing, lensing, splittin...</td>\n",
       "      <td>[dot, gravitational_lensing, lensing, splittin...</td>\n",
       "      <td>(d, o, t,  , g, r, a, v, i, t, a, t, i, o, n, ...</td>\n",
       "    </tr>\n",
       "    <tr>\n",
       "      <th>2</th>\n",
       "      <td>The Ptolemaic Gamma-Ray Burst Universe</td>\n",
       "      <td>The BATSE experiment on GRO has demonstrated...</td>\n",
       "      <td>The Ptolemaic Gamma-Ray Burst Universe   The B...</td>\n",
       "      <td>The Ptolemaic Gamma Ray Burst Universe   The B...</td>\n",
       "      <td>(T, h, e,  , P, t, o, l, e, m, a, i, c,  , G, ...</td>\n",
       "      <td>[cosmic gamma-ray bursts, jennings, $ { \\it, m...</td>\n",
       "      <td>[log_s, gamma_ray_bursts, jennings, high_recoi...</td>\n",
       "      <td>[gamma_ray_burst, born, recoil, become, neutro...</td>\n",
       "      <td>[gamma_ray_burst, born, recoil, become, neutro...</td>\n",
       "      <td>(g, a, m, m, a, _, r, a, y, _, b, u, r, s, t, ...</td>\n",
       "    </tr>\n",
       "    <tr>\n",
       "      <th>3</th>\n",
       "      <td>Expanding Photospheres of Type II Supernovae a...</td>\n",
       "      <td>We use the Expanding Photosphere Method to d...</td>\n",
       "      <td>Expanding Photospheres of Type II Supernovae a...</td>\n",
       "      <td>Expanding Photospheres of Type II Supernovae a...</td>\n",
       "      <td>(E, x, p, a, n, d, i, n, g,  , P, h, o, t, o, ...</td>\n",
       "      <td>[variable stars, surface brightness fluctuatio...</td>\n",
       "      <td>[, distance_measurement, mpc, good_agreement, ...</td>\n",
       "      <td>[sn, type_ii, distance, supernova, extinction,...</td>\n",
       "      <td>[sn, type_ii, distance, supernova, extinction,...</td>\n",
       "      <td>(s, n,  , t, y, p, e, _, i, i,  , d, i, s, t, ...</td>\n",
       "    </tr>\n",
       "    <tr>\n",
       "      <th>4</th>\n",
       "      <td>Radiation Transfer in Gamma-Ray Bursts</td>\n",
       "      <td>We have calculated gamma-ray radiative trans...</td>\n",
       "      <td>Radiation Transfer in Gamma-Ray Bursts   We ha...</td>\n",
       "      <td>Radiation Transfer in Gamma Ray Bursts   We ha...</td>\n",
       "      <td>(R, a, d, i, a, t, i, o, n,  , T, r, a, n, s, ...</td>\n",
       "      <td>[march, spherical, flare models, mev, gamma-ra...</td>\n",
       "      <td>[march, effective_collimation, two_photon_pair...</td>\n",
       "      <td>[discrete, gamma_ray_burst, energy, optical_de...</td>\n",
       "      <td>[discrete, gamma_ray_burst, energy, optical_de...</td>\n",
       "      <td>(d, i, s, c, r, e, t, e,  , g, a, m, m, a, _, ...</td>\n",
       "    </tr>\n",
       "  </tbody>\n",
       "</table>\n",
       "</div>"
      ],
      "text/plain": [
       "                                               title  \\\n",
       "0  Gamma-Ray Bursts as the Death Throes of Massiv...   \n",
       "1     Gravitational Lensing and the Variability of G   \n",
       "2             The Ptolemaic Gamma-Ray Burst Universe   \n",
       "3  Expanding Photospheres of Type II Supernovae a...   \n",
       "4             Radiation Transfer in Gamma-Ray Bursts   \n",
       "\n",
       "                                             summary  \\\n",
       "0    It is proposed that gamma-ray bursts are cre...   \n",
       "1    The four observables associated with gravita...   \n",
       "2    The BATSE experiment on GRO has demonstrated...   \n",
       "3    We use the Expanding Photosphere Method to d...   \n",
       "4    We have calculated gamma-ray radiative trans...   \n",
       "\n",
       "                                                comb  \\\n",
       "0  Gamma-Ray Bursts as the Death Throes of Massiv...   \n",
       "1  Gravitational Lensing and the Variability of G...   \n",
       "2  The Ptolemaic Gamma-Ray Burst Universe   The B...   \n",
       "3  Expanding Photospheres of Type II Supernovae a...   \n",
       "4  Radiation Transfer in Gamma-Ray Bursts   We ha...   \n",
       "\n",
       "                                             cleaned  \\\n",
       "0  Gamma Ray Bursts as the Death Throes of Massiv...   \n",
       "1  Gravitational Lensing and the Variability of G...   \n",
       "2  The Ptolemaic Gamma Ray Burst Universe   The B...   \n",
       "3  Expanding Photospheres of Type II Supernovae a...   \n",
       "4  Radiation Transfer in Gamma Ray Bursts   We ha...   \n",
       "\n",
       "                                          summary_tb  \\\n",
       "0  (G, a, m, m, a, -, R, a, y,  , B, u, r, s, t, ...   \n",
       "1  (G, r, a, v, i, t, a, t, i, o, n, a, l,  , L, ...   \n",
       "2  (T, h, e,  , P, t, o, l, e, m, a, i, c,  , G, ...   \n",
       "3  (E, x, p, a, n, d, i, n, g,  , P, h, o, t, o, ...   \n",
       "4  (R, a, d, i, a, t, i, o, n,  , T, r, a, n, s, ...   \n",
       "\n",
       "                                            np_dirty  \\\n",
       "0  [double neutron star binaries, massive binary,...   \n",
       "1  [$ \\dot {, distant quasars, variability, relat...   \n",
       "2  [cosmic gamma-ray bursts, jennings, $ { \\it, m...   \n",
       "3  [variable stars, surface brightness fluctuatio...   \n",
       "4  [march, spherical, flare models, mev, gamma-ra...   \n",
       "\n",
       "                                            np_clean  \\\n",
       "0  [gamma_ray_bursts, black_hole_neutron_star_bin...   \n",
       "1  [, estimate_constraints, omega_, variability, ...   \n",
       "2  [log_s, gamma_ray_bursts, jennings, high_recoi...   \n",
       "3  [, distance_measurement, mpc, good_agreement, ...   \n",
       "4  [march, effective_collimation, two_photon_pair...   \n",
       "\n",
       "                                            keywords  \\\n",
       "0  [binary, merger, created, burst, gamma_ray_bur...   \n",
       "1  [dot, gravitational_lensing, lensing, splittin...   \n",
       "2  [gamma_ray_burst, born, recoil, become, neutro...   \n",
       "3  [sn, type_ii, distance, supernova, extinction,...   \n",
       "4  [discrete, gamma_ray_burst, energy, optical_de...   \n",
       "\n",
       "                                               np+tf  \\\n",
       "0  [binary, merger, created, burst, gamma_ray_bur...   \n",
       "1  [dot, gravitational_lensing, lensing, splittin...   \n",
       "2  [gamma_ray_burst, born, recoil, become, neutro...   \n",
       "3  [sn, type_ii, distance, supernova, extinction,...   \n",
       "4  [discrete, gamma_ray_burst, energy, optical_de...   \n",
       "\n",
       "                                              key_tb  \n",
       "0  (b, i, n, a, r, y,  , m, e, r, g, e, r,  , c, ...  \n",
       "1  (d, o, t,  , g, r, a, v, i, t, a, t, i, o, n, ...  \n",
       "2  (g, a, m, m, a, _, r, a, y, _, b, u, r, s, t, ...  \n",
       "3  (s, n,  , t, y, p, e, _, i, i,  , d, i, s, t, ...  \n",
       "4  (d, i, s, c, r, e, t, e,  , g, a, m, m, a, _, ...  "
      ]
     },
     "execution_count": 36,
     "metadata": {},
     "output_type": "execute_result"
    }
   ],
   "source": [
    "df_test.head()"
   ]
  },
  {
   "cell_type": "code",
   "execution_count": 37,
   "metadata": {
    "scrolled": false
   },
   "outputs": [
    {
     "data": {
      "text/plain": [
       "['binary',\n",
       " 'merger',\n",
       " 'created',\n",
       " 'burst',\n",
       " 'gamma_ray_burst',\n",
       " 'neutron_star',\n",
       " 'throe',\n",
       " 'magnetic_flare',\n",
       " 'neutrino_antineutrino',\n",
       " 'objection',\n",
       " 'spiraling',\n",
       " 'ligo',\n",
       " 'death',\n",
       " 'sle',\n",
       " 'accompanied',\n",
       " 'gamma_ray_bursts',\n",
       " 'black_hole_neutron_star_binaries',\n",
       " 'complex_profiles',\n",
       " 'large_radii',\n",
       " 'km',\n",
       " 'death_throes',\n",
       " 'cosmological_distances',\n",
       " 'massive_binary',\n",
       " 'neutrino_antineutrino_annihilation',\n",
       " 'spiraling_in_binary',\n",
       " 'magnetic_flares',\n",
       " 'gamma_ray',\n",
       " 'gravitational_radiation',\n",
       " 'previous_objections',\n",
       " 'parker',\n",
       " 'double_neutron_star_binaries',\n",
       " 'cosmological_merger_model',\n",
       " 'size_sles',\n",
       " 'thick_fireball',\n",
       " 'ligo']"
      ]
     },
     "execution_count": 37,
     "metadata": {},
     "output_type": "execute_result"
    }
   ],
   "source": [
    "df_test['np+tf'][0]"
   ]
  },
  {
   "cell_type": "code",
   "execution_count": 38,
   "metadata": {},
   "outputs": [
    {
     "data": {
      "text/plain": [
       "TextBlob(\"binary merger created burst gamma_ray_burst neutron_star throe magnetic_flare neutrino_antineutrino objection spiraling ligo death sle accompanied gamma_ray_bursts black_hole_neutron_star_binaries complex_profiles large_radii km death_throes cosmological_distances massive_binary neutrino_antineutrino_annihilation spiraling_in_binary magnetic_flares gamma_ray gravitational_radiation previous_objections parker double_neutron_star_binaries cosmological_merger_model size_sles thick_fireball ligo\")"
      ]
     },
     "execution_count": 38,
     "metadata": {},
     "output_type": "execute_result"
    }
   ],
   "source": [
    "df_test['key_tb'][0]"
   ]
  },
  {
   "cell_type": "code",
   "execution_count": 39,
   "metadata": {
    "scrolled": false
   },
   "outputs": [],
   "source": [
    "# function using textblob \n",
    "# POS-Tag and remove all keywords that don't have a Noun associated with it \n",
    "# and Remove N-grams that have Verb at end.\n",
    "\n",
    "def textblob_noun_filter(i, df):\n",
    "    temp2 = []\n",
    "    for word,tag in df['key_tb'][i].tags:\n",
    "        if '_' in word:\n",
    "            word_change = word.replace(\"_\", \" \")\n",
    "            try:\n",
    "                word_check = word_change.split()[-1]\n",
    "                word_change2 = Word(word_check).singularize()\n",
    "                if \"V\" in tb(word_change2).tags[-1][-1]:\n",
    "                    pass\n",
    "                else:\n",
    "                    for w_word,t_tag in tb(word_change).tags:\n",
    "                        if 'N' in t_tag and 'VBN' not in t_tag and 'IN' not in t_tag:\n",
    "                            temp2.append(word)\n",
    "            except:\n",
    "                for w_word,t_tag in tb(word_change).tags:\n",
    "                    if 'N' in t_tag and 'VBN' not in t_tag and 'IN' not in t_tag:\n",
    "                        temp2.append(word)\n",
    "        else: \n",
    "            if 'N' in tag and 'VBN' not in tag and 'IN' not in tag:\n",
    "                temp2.append(word)\n",
    "    #temp2 = [word for word,tag in df['key_tb'][i].tags if 'N' or 'VBG' in tag]\n",
    "    temp1 = df['np+tf'][i]\n",
    "    temp3 = [str(x) for x in temp1 if x in set(temp2)]\n",
    "    return temp3"
   ]
  },
  {
   "cell_type": "code",
   "execution_count": null,
   "metadata": {},
   "outputs": [],
   "source": []
  },
  {
   "cell_type": "code",
   "execution_count": 40,
   "metadata": {},
   "outputs": [],
   "source": [
    "# Similar to above function but using Spacy \n",
    "# POS-Tag and remove all keywords that don't have a Noun associated with it \n",
    "# and Remove N-grams that have Verb at end.\n",
    "def spacy_noun_filter(lst):\n",
    "    kw_list = []\n",
    "    for kw in lst:\n",
    "        if kw.count(\"_\") > 2:\n",
    "            end_kw = str(Word(kw.split(\"_\")[-1]).singularize())\n",
    "            doc = nlp(end_kw)\n",
    "            for token in doc:\n",
    "                if token.pos_ != 'VERB':\n",
    "                    kw_list.append(kw)\n",
    "        elif kw.count(\"_\") == 1:\n",
    "            kw_list.append(kw)\n",
    "        else:\n",
    "            doc = nlp(kw)\n",
    "            for token in doc:\n",
    "                if token.pos_ == 'NOUN':\n",
    "                    kw_list.append(kw)\n",
    "    return kw_list\n"
   ]
  },
  {
   "cell_type": "code",
   "execution_count": 41,
   "metadata": {
    "scrolled": true
   },
   "outputs": [],
   "source": [
    "# function to filter out substrings\n",
    "def substr_in_list(elem, lst):\n",
    "    for s in lst:\n",
    "        if elem != s and elem in s:\n",
    "            return True\n",
    "    return False"
   ]
  },
  {
   "cell_type": "code",
   "execution_count": 42,
   "metadata": {},
   "outputs": [],
   "source": [
    "#function to r emove all words of length 2 or less and duplicates\n",
    "def remove_smallwords(lst):\n",
    "    kw_list3 = []\n",
    "    for kw in lst:\n",
    "        if '_' in kw:\n",
    "            if len(max(kw.split(\"_\"), key=len)) > 2:\n",
    "                kw_list3.append(kw)\n",
    "        else:\n",
    "            if len(kw) > 2:\n",
    "                kw_list3.append(kw)\n",
    "    return list(set(kw_list3))"
   ]
  },
  {
   "cell_type": "code",
   "execution_count": 43,
   "metadata": {},
   "outputs": [],
   "source": [
    "tb_filtered = [textblob_noun_filter(i, df_test) for i in range(df_test.shape[0])]\n",
    "\n",
    "spacy_filtered = [spacy_noun_filter(lst) for lst in tb_filtered]\n",
    "\n",
    "no_substrings = [[j for j in i if not substr_in_list(j, i)] for i in spacy_filtered]\n",
    "\n",
    "final_kw = [remove_smallwords(lst) for lst in no_substrings]"
   ]
  },
  {
   "cell_type": "code",
   "execution_count": 44,
   "metadata": {
    "scrolled": false
   },
   "outputs": [
    {
     "name": "stderr",
     "output_type": "stream",
     "text": [
      "/Users/tashlin/anaconda3/lib/python3.7/site-packages/ipykernel_launcher.py:2: SettingWithCopyWarning: \n",
      "A value is trying to be set on a copy of a slice from a DataFrame.\n",
      "Try using .loc[row_indexer,col_indexer] = value instead\n",
      "\n",
      "See the caveats in the documentation: http://pandas.pydata.org/pandas-docs/stable/indexing.html#indexing-view-versus-copy\n",
      "  \n"
     ]
    }
   ],
   "source": [
    "#add filtered keywords to dataframe\n",
    "df_test[\"tfidf_np\"] = final_kw"
   ]
  },
  {
   "cell_type": "code",
   "execution_count": 45,
   "metadata": {},
   "outputs": [
    {
     "data": {
      "text/plain": [
       "['magnetic_flares',\n",
       " 'black_hole_neutron_star_binaries',\n",
       " 'gamma_ray_bursts',\n",
       " 'double_neutron_star_binaries',\n",
       " 'cosmological_distances',\n",
       " 'massive_binary',\n",
       " 'complex_profiles',\n",
       " 'merger',\n",
       " 'size_sles',\n",
       " 'thick_fireball',\n",
       " 'gravitational_radiation',\n",
       " 'large_radii',\n",
       " 'previous_objections',\n",
       " 'neutrino_antineutrino_annihilation',\n",
       " 'ligo',\n",
       " 'death_throes',\n",
       " 'parker']"
      ]
     },
     "execution_count": 45,
     "metadata": {},
     "output_type": "execute_result"
    }
   ],
   "source": [
    "df_test[\"tfidf_np\"][0]"
   ]
  },
  {
   "cell_type": "code",
   "execution_count": null,
   "metadata": {},
   "outputs": [],
   "source": []
  },
  {
   "cell_type": "code",
   "execution_count": null,
   "metadata": {},
   "outputs": [],
   "source": []
  },
  {
   "cell_type": "code",
   "execution_count": 46,
   "metadata": {},
   "outputs": [
    {
     "data": {
      "text/plain": [
       "Index(['title', 'summary', 'comb', 'cleaned', 'summary_tb', 'np_dirty',\n",
       "       'np_clean', 'keywords', 'np+tf', 'key_tb', 'tfidf_np'],\n",
       "      dtype='object')"
      ]
     },
     "execution_count": 46,
     "metadata": {},
     "output_type": "execute_result"
    }
   ],
   "source": [
    "df_test.columns"
   ]
  },
  {
   "cell_type": "code",
   "execution_count": null,
   "metadata": {},
   "outputs": [],
   "source": []
  },
  {
   "cell_type": "code",
   "execution_count": 47,
   "metadata": {
    "scrolled": true
   },
   "outputs": [
    {
     "name": "stdout",
     "output_type": "stream",
     "text": [
      "['experiments', 'dark_clusters', 'brown_dwarfs', 'intensive_survey', 'event_rate']\n",
      "Index(['title', 'summary', 'tfidf_np'], dtype='object')\n"
     ]
    }
   ],
   "source": [
    "#clean dataframe for easy reading\n",
    "final_df = df_test.drop(['comb','cleaned', 'summary_tb','np_dirty','np_clean','key_tb','keywords', 'np+tf'], axis=1)\n",
    "#final_df.rename(columns={\"2nd_filter\": \"tfidf\"}, inplace=True)\n",
    "word_num = 500\n",
    "#print(final_df['tfidf'][word_num])\n",
    "print(final_df['tfidf_np'][word_num])\n",
    "print(final_df.columns)"
   ]
  },
  {
   "cell_type": "code",
   "execution_count": null,
   "metadata": {},
   "outputs": [],
   "source": []
  },
  {
   "cell_type": "code",
   "execution_count": 48,
   "metadata": {},
   "outputs": [],
   "source": [
    "#output dataframe\n",
    "final_df.to_csv(\"kw-astro-jan16.csv\")"
   ]
  },
  {
   "cell_type": "code",
   "execution_count": null,
   "metadata": {},
   "outputs": [],
   "source": []
  },
  {
   "cell_type": "code",
   "execution_count": null,
   "metadata": {},
   "outputs": [],
   "source": []
  },
  {
   "cell_type": "code",
   "execution_count": null,
   "metadata": {},
   "outputs": [],
   "source": []
  },
  {
   "cell_type": "code",
   "execution_count": null,
   "metadata": {},
   "outputs": [],
   "source": []
  },
  {
   "cell_type": "code",
   "execution_count": null,
   "metadata": {},
   "outputs": [],
   "source": []
  },
  {
   "cell_type": "code",
   "execution_count": null,
   "metadata": {},
   "outputs": [],
   "source": []
  },
  {
   "cell_type": "code",
   "execution_count": null,
   "metadata": {},
   "outputs": [],
   "source": []
  }
 ],
 "metadata": {
  "kernelspec": {
   "display_name": "Python 3",
   "language": "python",
   "name": "python3"
  },
  "language_info": {
   "codemirror_mode": {
    "name": "ipython",
    "version": 3
   },
   "file_extension": ".py",
   "mimetype": "text/x-python",
   "name": "python",
   "nbconvert_exporter": "python",
   "pygments_lexer": "ipython3",
   "version": "3.7.3"
  }
 },
 "nbformat": 4,
 "nbformat_minor": 2
}
